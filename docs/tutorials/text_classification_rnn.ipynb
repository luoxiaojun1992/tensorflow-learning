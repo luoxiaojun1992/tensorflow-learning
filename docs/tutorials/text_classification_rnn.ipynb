{
  "cells": [
    {
      "cell_type": "markdown",
      "metadata": {
        "id": "view-in-github",
        "colab_type": "text"
      },
      "source": [
        "<a href=\"https://colab.research.google.com/github/luoxiaojun1992/tensorflow-learning/blob/main/docs/tutorials/text_classification_rnn.ipynb\" target=\"_parent\"><img src=\"https://colab.research.google.com/assets/colab-badge.svg\" alt=\"Open In Colab\"/></a>"
      ]
    },
    {
      "cell_type": "markdown",
      "metadata": {
        "id": "hX4n9TsbGw-f"
      },
      "source": [
        "##### Copyright 2018 The TensorFlow Authors."
      ]
    },
    {
      "cell_type": "code",
      "execution_count": 1,
      "metadata": {
        "id": "0nbI5DtDGw-i"
      },
      "outputs": [],
      "source": [
        "#@title Licensed under the Apache License, Version 2.0 (the \"License\");\n",
        "# you may not use this file except in compliance with the License.\n",
        "# You may obtain a copy of the License at\n",
        "#\n",
        "# https://www.apache.org/licenses/LICENSE-2.0\n",
        "#\n",
        "# Unless required by applicable law or agreed to in writing, software\n",
        "# distributed under the License is distributed on an \"AS IS\" BASIS,\n",
        "# WITHOUT WARRANTIES OR CONDITIONS OF ANY KIND, either express or implied.\n",
        "# See the License for the specific language governing permissions and\n",
        "# limitations under the License."
      ]
    },
    {
      "cell_type": "markdown",
      "metadata": {
        "id": "9TnJztDZGw-n"
      },
      "source": [
        "# Text classification with an RNN"
      ]
    },
    {
      "cell_type": "markdown",
      "metadata": {
        "id": "AfN3bMR5Gw-o"
      },
      "source": [
        "<table class=\"tfo-notebook-buttons\" align=\"left\">\n",
        "  <td>\n",
        "    <a target=\"_blank\" href=\"https://www.tensorflow.org/text/tutorials/text_classification_rnn\"><img src=\"https://www.tensorflow.org/images/tf_logo_32px.png\" />View on TensorFlow.org</a>\n",
        "  </td>\n",
        "  <td>\n",
        "    <a target=\"_blank\" href=\"https://colab.research.google.com/github/tensorflow/text/blob/master/docs/tutorials/text_classification_rnn.ipynb\"><img src=\"https://www.tensorflow.org/images/colab_logo_32px.png\" />Run in Google Colab</a>\n",
        "  </td>\n",
        "  <td>\n",
        "    <a target=\"_blank\" href=\"https://github.com/tensorflow/text/blob/master/docs/tutorials/text_classification_rnn.ipynb\"><img src=\"https://www.tensorflow.org/images/GitHub-Mark-32px.png\" />View source on GitHub</a>\n",
        "  </td>\n",
        "  <td>\n",
        "    <a href=\"https://storage.googleapis.com/tensorflow_docs/text/docs/tutorials/text_classification_rnn.ipynb\"><img src=\"https://www.tensorflow.org/images/download_logo_32px.png\" />Download notebook</a>\n",
        "  </td>\n",
        "</table>"
      ]
    },
    {
      "cell_type": "markdown",
      "metadata": {
        "id": "lUWearf0Gw-p"
      },
      "source": [
        "This text classification tutorial trains a [recurrent neural network](https://developers.google.com/machine-learning/glossary/#recurrent_neural_network) on the [IMDB large movie review dataset](http://ai.stanford.edu/~amaas/data/sentiment/) for sentiment analysis."
      ]
    },
    {
      "cell_type": "markdown",
      "metadata": {
        "id": "_2VQo4bajwUU"
      },
      "source": [
        "## Setup"
      ]
    },
    {
      "cell_type": "code",
      "execution_count": 2,
      "metadata": {
        "id": "z682XYsrjkY9"
      },
      "outputs": [],
      "source": [
        "import numpy as np\n",
        "import pandas as pd\n",
        "\n",
        "import tensorflow_datasets as tfds\n",
        "import tensorflow as tf\n",
        "\n",
        "tfds.disable_progress_bar()"
      ]
    },
    {
      "cell_type": "markdown",
      "metadata": {
        "id": "1rXHa-w9JZhb"
      },
      "source": [
        "Import `matplotlib` and create a helper function to plot graphs:"
      ]
    },
    {
      "cell_type": "code",
      "execution_count": 3,
      "metadata": {
        "id": "Mp1Z7P9pYRSK"
      },
      "outputs": [],
      "source": [
        "import matplotlib.pyplot as plt\n",
        "\n",
        "\n",
        "def plot_graphs(history, metric):\n",
        "  plt.plot(history.history[metric])\n",
        "  plt.plot(history.history['val_'+metric], '')\n",
        "  plt.xlabel(\"Epochs\")\n",
        "  plt.ylabel(metric)\n",
        "  plt.legend([metric, 'val_'+metric])"
      ]
    },
    {
      "cell_type": "markdown",
      "metadata": {
        "id": "pRmMubr0jrE2"
      },
      "source": [
        "## Setup input pipeline\n",
        "\n",
        "\n",
        "The IMDB large movie review dataset is a *binary classification* dataset—all the reviews have either a *positive* or *negative* sentiment.\n",
        "\n",
        "Download the dataset using [TFDS](https://www.tensorflow.org/datasets). See the [loading text tutorial](https://www.tensorflow.org/tutorials/load_data/text) for details on how to load this sort of data manually.\n"
      ]
    },
    {
      "cell_type": "code",
      "execution_count": 4,
      "metadata": {
        "id": "SHRwRoP2nVHX"
      },
      "outputs": [],
      "source": [
        "# dataset, info = tfds.load('ag_news_subset', with_info=True,\n",
        "#                           as_supervised=True)\n",
        "# train_dataset, test_dataset = dataset['train'], dataset['test']\n",
        "\n",
        "# train_dataset.element_spec\n",
        "\n",
        "\n",
        "csv_path = 'https://raw.githubusercontent.com/luoxiaojun1992/tensorflow-learning/main/dataset/test.csv'\n",
        "\n",
        "\n",
        "df = pd.read_csv(csv_path)\n",
        "dataset = tf.data.Dataset.from_tensor_slices((df['code'].values, df['label'].values))\n",
        "\n",
        "train_dataset = dataset.take(90000)\n",
        "test_dataset = dataset.skip(90000)\n"
      ]
    },
    {
      "cell_type": "markdown",
      "metadata": {
        "id": "nWA4c2ir7g6p"
      },
      "source": [
        "Initially this returns a dataset of (text, label pairs):"
      ]
    },
    {
      "cell_type": "code",
      "execution_count": 5,
      "metadata": {
        "id": "vd4_BGKyurao",
        "colab": {
          "base_uri": "https://localhost:8080/"
        },
        "outputId": "8662b779-1540-4523-abb1-b965ea9bbdaf"
      },
      "outputs": [
        {
          "output_type": "stream",
          "name": "stdout",
          "text": [
            "text:  b'package mainimport (\\tfmt\\tsync\\ttime)var counter intvar wg sync.WaitGroupfunc increment() {\\tdefer wg.Done()\\tfor i := 0; i < 1000; i++ {\\t\\tvalue := counter\\t\\t// \\xe6\\xa8\\xa1\\xe6\\x8b\\x9f\\xe4\\xb8\\x80\\xe4\\xba\\x9b\\xe5\\xa4\\x84\\xe7\\x90\\x86\\xe6\\x97\\xb6\\xe9\\x97\\xb4\\t\\ttime.Sleep(time.Millisecond)\\t\\tcounter = value + 1\\t}}func main() {\\twg.Add(2)\\tgo increment()\\tgo increment()\\twg.Wait()\\tfmt.Println(Final Counter: counter)}'\n",
            "label:  1\n"
          ]
        }
      ],
      "source": [
        "for example, label in dataset.take(1):\n",
        "  print('text: ', example.numpy())\n",
        "  print('label: ', label.numpy())"
      ]
    },
    {
      "cell_type": "markdown",
      "metadata": {
        "id": "z2qVJzcEluH_"
      },
      "source": [
        "Next shuffle the data for training and create batches of these `(text, label)` pairs:"
      ]
    },
    {
      "cell_type": "code",
      "execution_count": 6,
      "metadata": {
        "id": "dDsCaZCDYZgm"
      },
      "outputs": [],
      "source": [
        "BUFFER_SIZE = 10000\n",
        "BATCH_SIZE = 64"
      ]
    },
    {
      "cell_type": "code",
      "execution_count": 7,
      "metadata": {
        "id": "VznrltNOnUc5"
      },
      "outputs": [],
      "source": [
        "train_dataset = train_dataset.shuffle(BUFFER_SIZE).batch(BATCH_SIZE).prefetch(tf.data.AUTOTUNE)\n",
        "test_dataset = test_dataset.batch(BATCH_SIZE).prefetch(tf.data.AUTOTUNE)"
      ]
    },
    {
      "cell_type": "code",
      "execution_count": 8,
      "metadata": {
        "id": "jqkvdcFv41wC",
        "colab": {
          "base_uri": "https://localhost:8080/"
        },
        "outputId": "eeaf36a3-0ebe-4cf8-c432-a0c66ee25d7a"
      },
      "outputs": [
        {
          "output_type": "stream",
          "name": "stdout",
          "text": [
            "texts:  [b'package mainimport (\\tfmt\\tsync\\ttime)var data []intvar wg sync.WaitGroupvar mu sync.Mutexfunc appendData(value int) {\\tdefer wg.Done()\\tfor i := 0; i < 100; i++ {\\t\\tmu.Lock()\\t\\t// \\xe6\\xa8\\xa1\\xe6\\x8b\\x9f\\xe4\\xb8\\x80\\xe4\\xba\\x9b\\xe5\\xa4\\x84\\xe7\\x90\\x86\\xe6\\x97\\xb6\\xe9\\x97\\xb4\\t\\ttime.Sleep(time.Millisecond)\\t\\tdata = append(data value)\\t\\tmu.Unlock()\\t}}func main() {\\twg.Add(2)\\tgo appendData(1)\\tgo appendData(2)\\twg.Wait()\\tfmt.Println(Final Data: data)}'\n",
            " b'package mainimport (\\tfmt\\tsync\\ttime)var total intvar wg sync.WaitGroupfunc processNumber(number int) {\\tdefer wg.Done()\\tfor i := 0; i < 1000; i++ {\\t\\t// \\xe6\\xa8\\xa1\\xe6\\x8b\\x9f\\xe4\\xb8\\x80\\xe4\\xba\\x9b\\xe5\\xa4\\x84\\xe7\\x90\\x86\\xe6\\x97\\xb6\\xe9\\x97\\xb4\\t\\ttime.Sleep(time.Millisecond)\\t\\ttotal = total + number\\t}}func main() {\\twg.Add(2)\\tgo processNumber(1)\\tgo processNumber(-1)\\twg.Wait()\\tfmt.Println(Final Total: total)}'\n",
            " b'package mainimport (\\tfmt\\tsync\\ttime)var counter intvar wg sync.WaitGroupvar mu sync.Mutexfunc increment() {\\tdefer wg.Done()\\tfor i := 0; i < 1000; i++ {\\t\\tmu.Lock()\\t\\tvalue := counter\\t\\t// \\xe6\\xa8\\xa1\\xe6\\x8b\\x9f\\xe4\\xb8\\x80\\xe4\\xba\\x9b\\xe5\\xa4\\x84\\xe7\\x90\\x86\\xe6\\x97\\xb6\\xe9\\x97\\xb4\\t\\ttime.Sleep(time.Millisecond)\\t\\tcounter = value + 1\\t\\tmu.Unlock()\\t}}func decrement() {\\tdefer wg.Done()\\tfor i := 0; i < 1000; i++ {\\t\\tmu.Lock()\\t\\tvalue := counter\\t\\t// \\xe6\\xa8\\xa1\\xe6\\x8b\\x9f\\xe4\\xb8\\x80\\xe4\\xba\\x9b\\xe5\\xa4\\x84\\xe7\\x90\\x86\\xe6\\x97\\xb6\\xe9\\x97\\xb4\\t\\ttime.Sleep(time.Millisecond)\\t\\tcounter = value - 1\\t\\tmu.Unlock()\\t}}func main() {\\twg.Add(2)\\tgo increment()\\tgo decrement()\\twg.Wait()\\tfmt.Println(Final Counter: counter)}']\n",
            "\n",
            "labels:  [0 1 0]\n"
          ]
        }
      ],
      "source": [
        "for example, label in train_dataset.take(1):\n",
        "  print('texts: ', example.numpy()[:3])\n",
        "  print()\n",
        "  print('labels: ', label.numpy()[:3])"
      ]
    },
    {
      "cell_type": "markdown",
      "metadata": {
        "id": "s5eWCo88voPY"
      },
      "source": [
        "## Create the text encoder"
      ]
    },
    {
      "cell_type": "markdown",
      "metadata": {
        "id": "TFevcItw15P_"
      },
      "source": [
        "The raw text loaded by `tfds` needs to be processed before it can be used in a model. The simplest way to process text for training is using the `TextVectorization` layer. This layer has many capabilities, but this tutorial sticks to the default behavior.\n",
        "\n",
        "Create the layer, and pass the dataset's text to the layer's `.adapt` method:"
      ]
    },
    {
      "cell_type": "code",
      "execution_count": 9,
      "metadata": {
        "id": "uC25Lu1Yvuqy"
      },
      "outputs": [],
      "source": [
        "VOCAB_SIZE = 1000\n",
        "encoder = tf.keras.layers.TextVectorization(\n",
        "    max_tokens=VOCAB_SIZE)\n",
        "encoder.adapt(train_dataset.map(lambda text, label: text))"
      ]
    },
    {
      "cell_type": "markdown",
      "metadata": {
        "id": "IuQzVBbe3Ldu"
      },
      "source": [
        "The `.adapt` method sets the layer's vocabulary. Here are the first 20 tokens. After the padding and unknown tokens they're sorted by frequency:"
      ]
    },
    {
      "cell_type": "code",
      "execution_count": 10,
      "metadata": {
        "id": "tBoyjjWg0Ac9",
        "colab": {
          "base_uri": "https://localhost:8080/"
        },
        "outputId": "e102d23b-fa9a-4a6e-b33f-82c54c6d0bb4"
      },
      "outputs": [
        {
          "output_type": "execute_result",
          "data": {
            "text/plain": [
              "array(['', '[UNK]', 'i', 'go', 'value', 'counter', '模拟一些处理时间', 'wgdone',\n",
              "       'timesleeptimemillisecond', 'func', 'for', 'defer', '0', 'wgwait',\n",
              "       'wgadd2', 'wg', 'total', 'timevar', 'sync', 'package'],\n",
              "      dtype='<U24')"
            ]
          },
          "metadata": {},
          "execution_count": 10
        }
      ],
      "source": [
        "vocab = np.array(encoder.get_vocabulary())\n",
        "vocab[:20]"
      ]
    },
    {
      "cell_type": "markdown",
      "metadata": {
        "id": "mjId5pua3jHQ"
      },
      "source": [
        "Once the vocabulary is set, the layer can encode text into indices. The tensors of indices are 0-padded to the longest sequence in the batch (unless you set a fixed `output_sequence_length`):"
      ]
    },
    {
      "cell_type": "code",
      "execution_count": 11,
      "metadata": {
        "id": "RGc7C9WiwRWs",
        "colab": {
          "base_uri": "https://localhost:8080/"
        },
        "outputId": "48b25fba-e8a9-4e33-e301-e35fcf0a17ff"
      },
      "outputs": [
        {
          "output_type": "execute_result",
          "data": {
            "text/plain": [
              "array([[19, 20, 24, 18, 17, 28, 22, 15, 31, 34, 33, 49, 27, 11,  7, 10,\n",
              "         2, 12,  2, 54,  2, 30,  6,  8, 28, 52,  4, 29,  9, 21, 14,  3,\n",
              "        51,  3, 50, 13, 23, 28, 28,  0,  0,  0,  0,  0,  0,  0,  0,  0,\n",
              "         0,  0,  0,  0,  0,  0,  0,  0,  0,  0,  0],\n",
              "       [19, 20, 24, 18, 17, 16, 22, 15, 32, 41, 27, 11,  7, 10,  2, 12,\n",
              "         2, 26,  2,  6,  8, 16, 16, 42,  9, 21, 14,  3, 36,  3, 36, 13,\n",
              "        23, 16, 16,  0,  0,  0,  0,  0,  0,  0,  0,  0,  0,  0,  0,  0,\n",
              "         0,  0,  0,  0,  0,  0,  0,  0,  0,  0,  0],\n",
              "       [19, 20, 24, 18, 17,  5, 22, 15, 31, 34, 33, 35, 11,  7, 10,  2,\n",
              "        12,  2, 26,  2, 30,  4,  5,  6,  8,  5,  4, 40, 29,  9, 48, 11,\n",
              "         7, 10,  2, 12,  2, 26,  2, 30,  4,  5,  6,  8,  5,  4, 40, 29,\n",
              "         9, 21, 14,  3, 35,  3, 48, 13, 23,  5,  5]])"
            ]
          },
          "metadata": {},
          "execution_count": 11
        }
      ],
      "source": [
        "encoded_example = encoder(example)[:3].numpy()\n",
        "encoded_example"
      ]
    },
    {
      "cell_type": "markdown",
      "metadata": {
        "id": "F5cjz0bS39IN"
      },
      "source": [
        "With the default settings, the process is not completely reversible. There are three main reasons for that:\n",
        "\n",
        "1. The default value for `preprocessing.TextVectorization`'s `standardize` argument is `\"lower_and_strip_punctuation\"`.\n",
        "2. The limited vocabulary size and lack of character-based fallback results in some unknown tokens."
      ]
    },
    {
      "cell_type": "code",
      "execution_count": 12,
      "metadata": {
        "id": "N_tD0QY5wXaK",
        "colab": {
          "base_uri": "https://localhost:8080/"
        },
        "outputId": "44b002c0-47d3-4269-dc27-1bb41ae24128"
      },
      "outputs": [
        {
          "output_type": "stream",
          "name": "stdout",
          "text": [
            "Original:  b'package mainimport (\\tfmt\\tsync\\ttime)var data []intvar wg sync.WaitGroupvar mu sync.Mutexfunc appendData(value int) {\\tdefer wg.Done()\\tfor i := 0; i < 100; i++ {\\t\\tmu.Lock()\\t\\t// \\xe6\\xa8\\xa1\\xe6\\x8b\\x9f\\xe4\\xb8\\x80\\xe4\\xba\\x9b\\xe5\\xa4\\x84\\xe7\\x90\\x86\\xe6\\x97\\xb6\\xe9\\x97\\xb4\\t\\ttime.Sleep(time.Millisecond)\\t\\tdata = append(data value)\\t\\tmu.Unlock()\\t}}func main() {\\twg.Add(2)\\tgo appendData(1)\\tgo appendData(2)\\twg.Wait()\\tfmt.Println(Final Data: data)}'\n",
            "Round-trip:  package mainimport fmt sync timevar data intvar wg syncwaitgroupvar mu syncmutexfunc appenddatavalue int defer wgdone for i 0 i 100 i mulock 模拟一些处理时间 timesleeptimemillisecond data appenddata value muunlock func main wgadd2 go appenddata1 go appenddata2 wgwait fmtprintlnfinal data data                    \n",
            "\n",
            "Original:  b'package mainimport (\\tfmt\\tsync\\ttime)var total intvar wg sync.WaitGroupfunc processNumber(number int) {\\tdefer wg.Done()\\tfor i := 0; i < 1000; i++ {\\t\\t// \\xe6\\xa8\\xa1\\xe6\\x8b\\x9f\\xe4\\xb8\\x80\\xe4\\xba\\x9b\\xe5\\xa4\\x84\\xe7\\x90\\x86\\xe6\\x97\\xb6\\xe9\\x97\\xb4\\t\\ttime.Sleep(time.Millisecond)\\t\\ttotal = total + number\\t}}func main() {\\twg.Add(2)\\tgo processNumber(1)\\tgo processNumber(-1)\\twg.Wait()\\tfmt.Println(Final Total: total)}'\n",
            "Round-trip:  package mainimport fmt sync timevar total intvar wg syncwaitgroupfunc processnumbernumber int defer wgdone for i 0 i 1000 i 模拟一些处理时间 timesleeptimemillisecond total total number func main wgadd2 go processnumber1 go processnumber1 wgwait fmtprintlnfinal total total                        \n",
            "\n"
          ]
        }
      ],
      "source": [
        "for n in range(2):\n",
        "  print(\"Original: \", example[n].numpy())\n",
        "  print(\"Round-trip: \", \" \".join(vocab[encoded_example[n]]))\n",
        "  print()"
      ]
    },
    {
      "cell_type": "markdown",
      "metadata": {
        "id": "bjUqGVBxGw-t"
      },
      "source": [
        "## Create the model"
      ]
    },
    {
      "cell_type": "markdown",
      "metadata": {
        "id": "W7zsmInBOCPO"
      },
      "source": [
        "![A drawing of the information flow in the model](https://github.com/tensorflow/text/blob/master/docs/tutorials/images/bidirectional.png?raw=1)"
      ]
    },
    {
      "cell_type": "markdown",
      "metadata": {
        "id": "bgs6nnSTGw-t"
      },
      "source": [
        "Above is a diagram of the model.\n",
        "\n",
        "1. This model can be build as a `tf.keras.Sequential`.\n",
        "\n",
        "2. The first layer is the `encoder`, which converts the text to a sequence of token indices.\n",
        "\n",
        "3. After the encoder is an embedding layer. An embedding layer stores one vector per word. When called, it converts the sequences of word indices to sequences of vectors. These vectors are trainable. After training (on enough data), words with similar meanings often have similar vectors.\n",
        "\n",
        "  This index-lookup is much more efficient than the equivalent operation of passing a one-hot encoded vector through a `tf.keras.layers.Dense` layer.\n",
        "\n",
        "4. A recurrent neural network (RNN) processes sequence input by iterating through the elements. RNNs pass the outputs from one timestep to their input on the next timestep.\n",
        "\n",
        "  The `tf.keras.layers.Bidirectional` wrapper can also be used with an RNN layer. This propagates the input forward and backwards through the RNN layer and then concatenates the final output.\n",
        "\n",
        "  * The main advantage of a bidirectional RNN is that the signal from the beginning of the input doesn't need to be processed all the way through every timestep to affect the output.  \n",
        "\n",
        "  * The main disadvantage of a bidirectional RNN is that you can't efficiently stream predictions as words are being added to the end.\n",
        "\n",
        "5. After the RNN has converted the sequence to a single vector the two `layers.Dense` do some final processing, and convert from this vector representation to a single logit as the classification output.\n"
      ]
    },
    {
      "cell_type": "markdown",
      "metadata": {
        "id": "V4fodCI7soQi"
      },
      "source": [
        "The code to implement this is below:"
      ]
    },
    {
      "cell_type": "code",
      "execution_count": 13,
      "metadata": {
        "id": "LwfoBkmRYcP3"
      },
      "outputs": [],
      "source": [
        "model = tf.keras.Sequential([\n",
        "    encoder,\n",
        "    tf.keras.layers.Embedding(\n",
        "        input_dim=len(encoder.get_vocabulary()),\n",
        "        output_dim=64,\n",
        "        # Use masking to handle the variable sequence lengths\n",
        "        mask_zero=True),\n",
        "    tf.keras.layers.Bidirectional(tf.keras.layers.LSTM(64)),\n",
        "    tf.keras.layers.Dense(64, activation='relu'),\n",
        "    tf.keras.layers.Dense(1)\n",
        "])"
      ]
    },
    {
      "cell_type": "markdown",
      "metadata": {
        "id": "QIGmIGkkouUb"
      },
      "source": [
        "Please note that Keras sequential model is used here since all the layers in the model only have single input and produce single output. In case you want to use stateful RNN layer, you might want to build your model with Keras functional API or model subclassing so that you can retrieve and reuse the RNN layer states. Please check [Keras RNN guide](https://www.tensorflow.org/guide/keras/rnn#rnn_state_reuse) for more details."
      ]
    },
    {
      "cell_type": "markdown",
      "metadata": {
        "id": "kF-PsCk1LwjY"
      },
      "source": [
        "The embedding layer [uses masking](https://www.tensorflow.org/guide/keras/masking_and_padding) to handle the varying sequence-lengths. All the layers after the `Embedding` support masking:"
      ]
    },
    {
      "cell_type": "code",
      "execution_count": 14,
      "metadata": {
        "id": "87a8-CwfKebw",
        "colab": {
          "base_uri": "https://localhost:8080/"
        },
        "outputId": "227a3f80-b789-4a22-83d6-6f0750235148"
      },
      "outputs": [
        {
          "output_type": "stream",
          "name": "stdout",
          "text": [
            "[False, True, True, True, True]\n"
          ]
        }
      ],
      "source": [
        "print([layer.supports_masking for layer in model.layers])"
      ]
    },
    {
      "cell_type": "markdown",
      "metadata": {
        "id": "ZlS0iaUIWLpI"
      },
      "source": [
        "To confirm that this works as expected, evaluate a sentence twice. First, alone so there's no padding to mask:"
      ]
    },
    {
      "cell_type": "code",
      "execution_count": 15,
      "metadata": {
        "id": "O41gw3KfWHus",
        "colab": {
          "base_uri": "https://localhost:8080/"
        },
        "outputId": "5cfb68a5-e1de-4384-cd94-250085dc8eb9"
      },
      "outputs": [
        {
          "output_type": "stream",
          "name": "stdout",
          "text": [
            "1/1 [==============================] - 8s 8s/step\n",
            "[-0.01314272]\n"
          ]
        }
      ],
      "source": [
        "# predict on a sample text without padding.\n",
        "\n",
        "sample_text = ('The movie was cool. The animation and the graphics '\n",
        "               'were out of this world. I would recommend this movie.')\n",
        "predictions = model.predict(np.array([sample_text]))\n",
        "print(predictions[0])"
      ]
    },
    {
      "cell_type": "markdown",
      "metadata": {
        "id": "K0VQmGnEWcuz"
      },
      "source": [
        "Now, evaluate it again in a batch with a longer sentence. The result should be identical:"
      ]
    },
    {
      "cell_type": "code",
      "execution_count": 16,
      "metadata": {
        "id": "UIgpuTeFNDzq",
        "colab": {
          "base_uri": "https://localhost:8080/"
        },
        "outputId": "23badf9d-3c69-4673-9880-6e60b1c58d5d"
      },
      "outputs": [
        {
          "output_type": "stream",
          "name": "stdout",
          "text": [
            "1/1 [==============================] - 0s 235ms/step\n",
            "[-0.01314272]\n"
          ]
        }
      ],
      "source": [
        "# predict on a sample text with padding\n",
        "\n",
        "padding = \"the \" * 2000\n",
        "predictions = model.predict(np.array([sample_text, padding]))\n",
        "print(predictions[0])"
      ]
    },
    {
      "cell_type": "markdown",
      "metadata": {
        "id": "sRI776ZcH3Tf"
      },
      "source": [
        "Compile the Keras model to configure the training process:"
      ]
    },
    {
      "cell_type": "code",
      "execution_count": 17,
      "metadata": {
        "id": "kj2xei41YZjC"
      },
      "outputs": [],
      "source": [
        "model.compile(loss=tf.keras.losses.BinaryCrossentropy(from_logits=True),\n",
        "              optimizer=tf.keras.optimizers.Adam(1e-4),\n",
        "              metrics=['accuracy'])"
      ]
    },
    {
      "cell_type": "markdown",
      "metadata": {
        "id": "zIwH3nto596k"
      },
      "source": [
        "## Train the model"
      ]
    },
    {
      "cell_type": "code",
      "execution_count": 18,
      "metadata": {
        "id": "hw86wWS4YgR2",
        "colab": {
          "base_uri": "https://localhost:8080/"
        },
        "outputId": "8d144252-98b8-4534-86cc-9aa157936d78"
      },
      "outputs": [
        {
          "output_type": "stream",
          "name": "stdout",
          "text": [
            "Epoch 1/10\n",
            "1407/1407 [==============================] - 35s 18ms/step - loss: 0.0642 - accuracy: 0.9542 - val_loss: 3.1379e-05 - val_accuracy: 1.0000\n",
            "Epoch 2/10\n",
            "1407/1407 [==============================] - 23s 16ms/step - loss: 1.4228e-05 - accuracy: 1.0000 - val_loss: 5.8645e-06 - val_accuracy: 1.0000\n",
            "Epoch 3/10\n",
            "1407/1407 [==============================] - 23s 17ms/step - loss: 3.4175e-06 - accuracy: 1.0000 - val_loss: 1.8945e-06 - val_accuracy: 1.0000\n",
            "Epoch 4/10\n",
            "1407/1407 [==============================] - 24s 17ms/step - loss: 1.2392e-06 - accuracy: 1.0000 - val_loss: 7.8168e-07 - val_accuracy: 1.0000\n",
            "Epoch 5/10\n",
            "1407/1407 [==============================] - 23s 17ms/step - loss: 5.4115e-07 - accuracy: 1.0000 - val_loss: 3.5928e-07 - val_accuracy: 1.0000\n",
            "Epoch 6/10\n",
            "1407/1407 [==============================] - 23s 16ms/step - loss: 2.5374e-07 - accuracy: 1.0000 - val_loss: 1.7206e-07 - val_accuracy: 1.0000\n",
            "Epoch 7/10\n",
            "1407/1407 [==============================] - 24s 17ms/step - loss: 1.2340e-07 - accuracy: 1.0000 - val_loss: 8.5638e-08 - val_accuracy: 1.0000\n",
            "Epoch 8/10\n",
            "1407/1407 [==============================] - 23s 17ms/step - loss: 6.2537e-08 - accuracy: 1.0000 - val_loss: 4.3289e-08 - val_accuracy: 1.0000\n",
            "Epoch 9/10\n",
            "1407/1407 [==============================] - 23s 17ms/step - loss: 3.2320e-08 - accuracy: 1.0000 - val_loss: 2.4872e-08 - val_accuracy: 1.0000\n",
            "Epoch 10/10\n",
            "1407/1407 [==============================] - 23s 16ms/step - loss: 2.1760e-08 - accuracy: 1.0000 - val_loss: 1.9531e-08 - val_accuracy: 1.0000\n"
          ]
        }
      ],
      "source": [
        "history = model.fit(train_dataset, epochs=10,\n",
        "                    validation_data=test_dataset,\n",
        "                    validation_steps=30)"
      ]
    },
    {
      "cell_type": "code",
      "execution_count": 19,
      "metadata": {
        "id": "BaNbXi43YgUT",
        "colab": {
          "base_uri": "https://localhost:8080/"
        },
        "outputId": "48b4021e-9066-49c9-c0e9-d3bba9999304"
      },
      "outputs": [
        {
          "output_type": "stream",
          "name": "stdout",
          "text": [
            "157/157 [==============================] - 1s 8ms/step - loss: 1.9531e-08 - accuracy: 1.0000\n",
            "Test Loss: 1.9531343653511613e-08\n",
            "Test Accuracy: 1.0\n"
          ]
        }
      ],
      "source": [
        "test_loss, test_acc = model.evaluate(test_dataset)\n",
        "\n",
        "print('Test Loss:', test_loss)\n",
        "print('Test Accuracy:', test_acc)"
      ]
    },
    {
      "cell_type": "code",
      "execution_count": 20,
      "metadata": {
        "id": "OZmwt_mzaQJk",
        "colab": {
          "base_uri": "https://localhost:8080/",
          "height": 408
        },
        "outputId": "88b17b1b-dd7f-4826-a156-d94f022d267c"
      },
      "outputs": [
        {
          "output_type": "execute_result",
          "data": {
            "text/plain": [
              "(0.0, 0.0674102091709324)"
            ]
          },
          "metadata": {},
          "execution_count": 20
        },
        {
          "output_type": "display_data",
          "data": {
            "text/plain": [
              "<Figure size 1600x800 with 2 Axes>"
            ],
            "image/png": "[encoded data removed]"
          },
          "metadata": {}
        }
      ],
      "source": [
        "plt.figure(figsize=(16, 8))\n",
        "plt.subplot(1, 2, 1)\n",
        "plot_graphs(history, 'accuracy')\n",
        "plt.ylim(None, 1)\n",
        "plt.subplot(1, 2, 2)\n",
        "plot_graphs(history, 'loss')\n",
        "plt.ylim(0, None)"
      ]
    },
    {
      "cell_type": "markdown",
      "metadata": {
        "id": "DwSE_386uhxD"
      },
      "source": [
        "Run a prediction on a new sentence:\n",
        "\n",
        "If the prediction is >= 0.0, it is positive else it is negative."
      ]
    },
    {
      "cell_type": "code",
      "execution_count": 21,
      "metadata": {
        "id": "ZXgfQSgRW6zU",
        "colab": {
          "base_uri": "https://localhost:8080/"
        },
        "outputId": "723a9049-5f8c-453d-e32b-bb13674d0d79"
      },
      "outputs": [
        {
          "output_type": "stream",
          "name": "stdout",
          "text": [
            "1/1 [==============================] - 2s 2s/step\n",
            "[[-0.3681971]]\n"
          ]
        }
      ],
      "source": [
        "sample_text = ('The movie was cool. The animation and the graphics '\n",
        "               'were out of this world. I would recommend this movie.')\n",
        "predictions = model.predict(np.array([sample_text]))\n",
        "print(predictions)"
      ]
    },
    {
      "cell_type": "markdown",
      "metadata": {
        "id": "7g1evcaRpTKm"
      },
      "source": [
        "## Stack two or more LSTM layers\n",
        "\n",
        "Keras recurrent layers have two available modes that are controlled by the `return_sequences` constructor argument:\n",
        "\n",
        "* If `False` it returns only the last output for each input sequence (a 2D tensor of shape (batch_size, output_features)). This is the default, used in the previous model.\n",
        "\n",
        "* If `True` the full sequences of successive outputs for each timestep is returned (a 3D tensor of shape `(batch_size, timesteps, output_features)`).\n",
        "\n",
        "Here is what the flow of information looks like with `return_sequences=True`:\n",
        "\n",
        "![layered_bidirectional](https://github.com/tensorflow/text/blob/master/docs/tutorials/images/layered_bidirectional.png?raw=1)"
      ]
    },
    {
      "cell_type": "markdown",
      "metadata": {
        "id": "wbSClCrG1z8l"
      },
      "source": [
        "The interesting thing about using an `RNN` with `return_sequences=True` is that the output still has 3-axes, like the input, so it can be passed to another RNN layer, like this:"
      ]
    },
    {
      "cell_type": "code",
      "execution_count": 22,
      "metadata": {
        "id": "jo1jjO3vn0jo"
      },
      "outputs": [],
      "source": [
        "model = tf.keras.Sequential([\n",
        "    encoder,\n",
        "    tf.keras.layers.Embedding(len(encoder.get_vocabulary()), 64, mask_zero=True),\n",
        "    tf.keras.layers.Bidirectional(tf.keras.layers.LSTM(64,  return_sequences=True)),\n",
        "    tf.keras.layers.Bidirectional(tf.keras.layers.LSTM(32)),\n",
        "    tf.keras.layers.Dense(64, activation='relu'),\n",
        "    tf.keras.layers.Dropout(0.5),\n",
        "    tf.keras.layers.Dense(1)\n",
        "])"
      ]
    },
    {
      "cell_type": "code",
      "execution_count": 23,
      "metadata": {
        "id": "hEPV5jVGp-is"
      },
      "outputs": [],
      "source": [
        "model.compile(loss=tf.keras.losses.BinaryCrossentropy(from_logits=True),\n",
        "              optimizer=tf.keras.optimizers.Adam(1e-4),\n",
        "              metrics=['accuracy'])"
      ]
    },
    {
      "cell_type": "code",
      "execution_count": 24,
      "metadata": {
        "id": "LeSE-YjdqAeN",
        "colab": {
          "base_uri": "https://localhost:8080/"
        },
        "outputId": "a94c096a-1c76-484a-ef54-c252fe2284f7"
      },
      "outputs": [
        {
          "output_type": "stream",
          "name": "stdout",
          "text": [
            "Epoch 1/10\n",
            "1407/1407 [==============================] - 60s 31ms/step - loss: 0.0632 - accuracy: 0.9537 - val_loss: 1.2025e-05 - val_accuracy: 1.0000\n",
            "Epoch 2/10\n",
            "1407/1407 [==============================] - 38s 27ms/step - loss: 1.2370e-04 - accuracy: 1.0000 - val_loss: 1.1018e-06 - val_accuracy: 1.0000\n",
            "Epoch 3/10\n",
            "1407/1407 [==============================] - 39s 28ms/step - loss: 4.5014e-05 - accuracy: 1.0000 - val_loss: 1.9341e-07 - val_accuracy: 1.0000\n",
            "Epoch 4/10\n",
            "1407/1407 [==============================] - 39s 28ms/step - loss: 2.0611e-05 - accuracy: 1.0000 - val_loss: 4.1297e-08 - val_accuracy: 1.0000\n",
            "Epoch 5/10\n",
            "1407/1407 [==============================] - 40s 28ms/step - loss: 9.8473e-06 - accuracy: 1.0000 - val_loss: 1.0556e-08 - val_accuracy: 1.0000\n",
            "Epoch 6/10\n",
            "1407/1407 [==============================] - 39s 28ms/step - loss: 4.9078e-06 - accuracy: 1.0000 - val_loss: 2.7464e-09 - val_accuracy: 1.0000\n",
            "Epoch 7/10\n",
            "1407/1407 [==============================] - 39s 28ms/step - loss: 2.7116e-06 - accuracy: 1.0000 - val_loss: 7.0949e-10 - val_accuracy: 1.0000\n",
            "Epoch 8/10\n",
            "1407/1407 [==============================] - 41s 29ms/step - loss: 1.5819e-06 - accuracy: 1.0000 - val_loss: 1.7624e-10 - val_accuracy: 1.0000\n",
            "Epoch 9/10\n",
            "1407/1407 [==============================] - 39s 28ms/step - loss: 9.7169e-07 - accuracy: 1.0000 - val_loss: 4.5438e-11 - val_accuracy: 1.0000\n",
            "Epoch 10/10\n",
            "1407/1407 [==============================] - 40s 28ms/step - loss: 5.8954e-07 - accuracy: 1.0000 - val_loss: 1.1954e-11 - val_accuracy: 1.0000\n"
          ]
        }
      ],
      "source": [
        "history = model.fit(train_dataset, epochs=10,\n",
        "                    validation_data=test_dataset,\n",
        "                    validation_steps=30)"
      ]
    },
    {
      "cell_type": "code",
      "execution_count": 25,
      "metadata": {
        "id": "_LdwilM1qPM3",
        "outputId": "4dc10bd4-7e5d-4d06-8933-5d00b4376033",
        "colab": {
          "base_uri": "https://localhost:8080/"
        }
      },
      "outputs": [
        {
          "output_type": "stream",
          "name": "stdout",
          "text": [
            "157/157 [==============================] - 2s 10ms/step - loss: 1.1954e-11 - accuracy: 1.0000\n",
            "Test Loss: 1.195367676370962e-11\n",
            "Test Accuracy: 1.0\n"
          ]
        }
      ],
      "source": [
        "test_loss, test_acc = model.evaluate(test_dataset)\n",
        "\n",
        "print('Test Loss:', test_loss)\n",
        "print('Test Accuracy:', test_acc)"
      ]
    },
    {
      "cell_type": "code",
      "execution_count": 26,
      "metadata": {
        "id": "ykUKnAoqbycW",
        "colab": {
          "base_uri": "https://localhost:8080/"
        },
        "outputId": "08e16c34-1adc-47d0-c282-49ce3596097e"
      },
      "outputs": [
        {
          "output_type": "stream",
          "name": "stdout",
          "text": [
            "1/1 [==============================] - 4s 4s/step\n",
            "[[-17.836033]]\n"
          ]
        }
      ],
      "source": [
        "# predict on a sample text without padding.\n",
        "\n",
        "sample_text = ('The movie was not good. The animation and the graphics '\n",
        "               'were terrible. I would not recommend this movie.')\n",
        "predictions = model.predict(np.array([sample_text]))\n",
        "print(predictions)"
      ]
    },
    {
      "cell_type": "code",
      "execution_count": 27,
      "metadata": {
        "id": "_YYub0EDtwCu",
        "colab": {
          "base_uri": "https://localhost:8080/",
          "height": 304
        },
        "outputId": "381f1ffe-4914-404c-8596-604bfb190f9f"
      },
      "outputs": [
        {
          "output_type": "display_data",
          "data": {
            "text/plain": [
              "<Figure size 1600x600 with 2 Axes>"
            ],
            "image/png": "[encoded data removed]"
          },
          "metadata": {}
        }
      ],
      "source": [
        "plt.figure(figsize=(16, 6))\n",
        "plt.subplot(1, 2, 1)\n",
        "plot_graphs(history, 'accuracy')\n",
        "plt.subplot(1, 2, 2)\n",
        "plot_graphs(history, 'loss')"
      ]
    },
    {
      "cell_type": "markdown",
      "metadata": {
        "id": "9xvpE3BaGw_V"
      },
      "source": [
        "Check out other existing recurrent layers such as [GRU layers](https://www.tensorflow.org/api_docs/python/tf/keras/layers/GRU).\n",
        "\n",
        "If you're interested in building custom RNNs, see the [Keras RNN Guide](https://www.tensorflow.org/guide/keras/rnn).\n"
      ]
    }
  ],
  "metadata": {
    "accelerator": "GPU",
    "colab": {
      "name": "text_classification_rnn.ipynb",
      "provenance": [],
      "toc_visible": true,
      "include_colab_link": true
    },
    "kernelspec": {
      "display_name": "Python 3",
      "name": "python3"
    }
  },
  "nbformat": 4,
  "nbformat_minor": 0
}