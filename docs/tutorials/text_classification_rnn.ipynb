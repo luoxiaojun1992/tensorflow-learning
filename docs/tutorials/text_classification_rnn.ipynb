{
  "cells": [
    {
      "cell_type": "markdown",
      "metadata": {
        "id": "view-in-github",
        "colab_type": "text"
      },
      "source": [
        "<a href=\"https://colab.research.google.com/github/luoxiaojun1992/tensorflow-learning/blob/main/docs/tutorials/text_classification_rnn.ipynb\" target=\"_parent\"><img src=\"https://colab.research.google.com/assets/colab-badge.svg\" alt=\"Open In Colab\"/></a>"
      ]
    },
    {
      "cell_type": "markdown",
      "metadata": {
        "id": "hX4n9TsbGw-f"
      },
      "source": [
        "##### Copyright 2018 The TensorFlow Authors."
      ]
    },
    {
      "cell_type": "code",
      "execution_count": 1,
      "metadata": {
        "id": "0nbI5DtDGw-i"
      },
      "outputs": [],
      "source": [
        "#@title Licensed under the Apache License, Version 2.0 (the \"License\");\n",
        "# you may not use this file except in compliance with the License.\n",
        "# You may obtain a copy of the License at\n",
        "#\n",
        "# https://www.apache.org/licenses/LICENSE-2.0\n",
        "#\n",
        "# Unless required by applicable law or agreed to in writing, software\n",
        "# distributed under the License is distributed on an \"AS IS\" BASIS,\n",
        "# WITHOUT WARRANTIES OR CONDITIONS OF ANY KIND, either express or implied.\n",
        "# See the License for the specific language governing permissions and\n",
        "# limitations under the License."
      ]
    },
    {
      "cell_type": "markdown",
      "metadata": {
        "id": "9TnJztDZGw-n"
      },
      "source": [
        "# Text classification with an RNN"
      ]
    },
    {
      "cell_type": "markdown",
      "metadata": {
        "id": "AfN3bMR5Gw-o"
      },
      "source": [
        "<table class=\"tfo-notebook-buttons\" align=\"left\">\n",
        "  <td>\n",
        "    <a target=\"_blank\" href=\"https://www.tensorflow.org/text/tutorials/text_classification_rnn\"><img src=\"https://www.tensorflow.org/images/tf_logo_32px.png\" />View on TensorFlow.org</a>\n",
        "  </td>\n",
        "  <td>\n",
        "    <a target=\"_blank\" href=\"https://colab.research.google.com/github/tensorflow/text/blob/master/docs/tutorials/text_classification_rnn.ipynb\"><img src=\"https://www.tensorflow.org/images/colab_logo_32px.png\" />Run in Google Colab</a>\n",
        "  </td>\n",
        "  <td>\n",
        "    <a target=\"_blank\" href=\"https://github.com/tensorflow/text/blob/master/docs/tutorials/text_classification_rnn.ipynb\"><img src=\"https://www.tensorflow.org/images/GitHub-Mark-32px.png\" />View source on GitHub</a>\n",
        "  </td>\n",
        "  <td>\n",
        "    <a href=\"https://storage.googleapis.com/tensorflow_docs/text/docs/tutorials/text_classification_rnn.ipynb\"><img src=\"https://www.tensorflow.org/images/download_logo_32px.png\" />Download notebook</a>\n",
        "  </td>\n",
        "</table>"
      ]
    },
    {
      "cell_type": "markdown",
      "metadata": {
        "id": "lUWearf0Gw-p"
      },
      "source": [
        "This text classification tutorial trains a [recurrent neural network](https://developers.google.com/machine-learning/glossary/#recurrent_neural_network) on the [IMDB large movie review dataset](http://ai.stanford.edu/~amaas/data/sentiment/) for sentiment analysis."
      ]
    },
    {
      "cell_type": "markdown",
      "metadata": {
        "id": "_2VQo4bajwUU"
      },
      "source": [
        "## Setup"
      ]
    },
    {
      "cell_type": "code",
      "execution_count": 2,
      "metadata": {
        "id": "z682XYsrjkY9"
      },
      "outputs": [],
      "source": [
        "import numpy as np\n",
        "import pandas as pd\n",
        "\n",
        "import tensorflow_datasets as tfds\n",
        "import tensorflow as tf\n",
        "\n",
        "tfds.disable_progress_bar()"
      ]
    },
    {
      "cell_type": "markdown",
      "metadata": {
        "id": "1rXHa-w9JZhb"
      },
      "source": [
        "Import `matplotlib` and create a helper function to plot graphs:"
      ]
    },
    {
      "cell_type": "code",
      "execution_count": 3,
      "metadata": {
        "id": "Mp1Z7P9pYRSK"
      },
      "outputs": [],
      "source": [
        "import matplotlib.pyplot as plt\n",
        "\n",
        "\n",
        "def plot_graphs(history, metric):\n",
        "  plt.plot(history.history[metric])\n",
        "  plt.plot(history.history['val_'+metric], '')\n",
        "  plt.xlabel(\"Epochs\")\n",
        "  plt.ylabel(metric)\n",
        "  plt.legend([metric, 'val_'+metric])"
      ]
    },
    {
      "cell_type": "markdown",
      "metadata": {
        "id": "pRmMubr0jrE2"
      },
      "source": [
        "## Setup input pipeline\n",
        "\n",
        "\n",
        "The IMDB large movie review dataset is a *binary classification* dataset—all the reviews have either a *positive* or *negative* sentiment.\n",
        "\n",
        "Download the dataset using [TFDS](https://www.tensorflow.org/datasets). See the [loading text tutorial](https://www.tensorflow.org/tutorials/load_data/text) for details on how to load this sort of data manually.\n"
      ]
    },
    {
      "cell_type": "code",
      "execution_count": 4,
      "metadata": {
        "id": "SHRwRoP2nVHX"
      },
      "outputs": [],
      "source": [
        "# dataset, info = tfds.load('ag_news_subset', with_info=True,\n",
        "#                           as_supervised=True)\n",
        "# train_dataset, test_dataset = dataset['train'], dataset['test']\n",
        "\n",
        "# train_dataset.element_spec\n",
        "\n",
        "\n",
        "csv_path = 'https://raw.githubusercontent.com/luoxiaojun1992/tensorflow-learning/main/dataset/go_race_condition/sample.csv'\n",
        "\n",
        "\n",
        "df = pd.read_csv(csv_path)\n",
        "dataset = tf.data.Dataset.from_tensor_slices((df['code'].values, df['label'].values))\n",
        "\n",
        "train_dataset = dataset.take(190000)\n",
        "test_dataset = dataset.skip(190000)\n"
      ]
    },
    {
      "cell_type": "markdown",
      "metadata": {
        "id": "nWA4c2ir7g6p"
      },
      "source": [
        "Initially this returns a dataset of (text, label pairs):"
      ]
    },
    {
      "cell_type": "code",
      "execution_count": 5,
      "metadata": {
        "id": "vd4_BGKyurao",
        "colab": {
          "base_uri": "https://localhost:8080/"
        },
        "outputId": "92e61c12-8ba9-443f-f708-fd7cb282906b"
      },
      "outputs": [
        {
          "output_type": "stream",
          "name": "stdout",
          "text": [
            "text:  b'var C53 int var brPxA sync.WaitGroup func GcQik() { defer brPxA.Done() for i := -9182535675180766022; i < -5052545106721886993 ; i++ { value := C53 time.Sleep(time.Millisecond) C53 = value + 1 }} func oxtx() { defer brPxA.Done() for i := -9182535675180766022; i < -5052545106721886993; i++ { value := C53 time.Sleep(time.Millisecond) C53 = value - 1 }} func main() { brPxA.Add(2) go GcQik() go oxtx() brPxA.Wait() fmt.Println(Final C53: C53)}'\n",
            "label:  1\n"
          ]
        }
      ],
      "source": [
        "for example, label in dataset.take(1):\n",
        "  print('text: ', example.numpy())\n",
        "  print('label: ', label.numpy())"
      ]
    },
    {
      "cell_type": "markdown",
      "metadata": {
        "id": "z2qVJzcEluH_"
      },
      "source": [
        "Next shuffle the data for training and create batches of these `(text, label)` pairs:"
      ]
    },
    {
      "cell_type": "code",
      "execution_count": 6,
      "metadata": {
        "id": "dDsCaZCDYZgm"
      },
      "outputs": [],
      "source": [
        "BUFFER_SIZE = 10000\n",
        "BATCH_SIZE = 64"
      ]
    },
    {
      "cell_type": "code",
      "execution_count": 7,
      "metadata": {
        "id": "VznrltNOnUc5"
      },
      "outputs": [],
      "source": [
        "train_dataset = train_dataset.shuffle(BUFFER_SIZE).batch(BATCH_SIZE).prefetch(tf.data.AUTOTUNE)\n",
        "test_dataset = test_dataset.batch(BATCH_SIZE).prefetch(tf.data.AUTOTUNE)"
      ]
    },
    {
      "cell_type": "code",
      "execution_count": 8,
      "metadata": {
        "id": "jqkvdcFv41wC",
        "colab": {
          "base_uri": "https://localhost:8080/"
        },
        "outputId": "a0d89539-9fa5-4b83-a4b3-8ebe2dd352b8"
      },
      "outputs": [
        {
          "output_type": "stream",
          "name": "stdout",
          "text": [
            "texts:  [b'var E9NzhjH int var sGhjtDov sync.WaitGroup func Tn() { defer sGhjtDov.Done() for i := 2485278126818940900; i < 285299968703113225 ; i++ { value := E9NzhjH time.Sleep(time.Millisecond) E9NzhjH = value + 1 }} func gMiAd() { defer sGhjtDov.Done() for i := 2485278126818940900; i < 285299968703113225; i++ { value := E9NzhjH time.Sleep(time.Millisecond) E9NzhjH = value - 1 }} func main() { sGhjtDov.Add(2) go Tn() go gMiAd() sGhjtDov.Wait() fmt.Println(Final E9NzhjH: E9NzhjH)}'\n",
            " b'var Zso7BKW int var yUVpi sync.WaitGroup func RWIxCd() { defer yUVpi.Done() for i := 4078386311138097776; i < 8370935590503475391 ; i++ { value := Zso7BKW time.Sleep(time.Millisecond) Zso7BKW = value + 1 }} func DF() { defer yUVpi.Done() for i := 4078386311138097776; i < 8370935590503475391; i++ { value := Zso7BKW time.Sleep(time.Millisecond) Zso7BKW = value - 1 }} func main() { yUVpi.Add(2) go RWIxCd() go DF() yUVpi.Wait() fmt.Println(Final Zso7BKW: Zso7BKW)}'\n",
            " b'var pNjgMb int var uA sync.WaitGroup func SoIPqP() { defer uA.Done() for i := -3059803066707945061; i < 1930944280606145659 ; i++ { value := pNjgMb time.Sleep(time.Millisecond) pNjgMb = value + 1 }} func J9K8Po() { defer uA.Done() for i := -3059803066707945061; i < 1930944280606145659; i++ { value := pNjgMb time.Sleep(time.Millisecond) pNjgMb = value - 1 }} func main() { uA.Add(2) go SoIPqP() go J9K8Po() uA.Wait() fmt.Println(Final pNjgMb: pNjgMb)}']\n",
            "\n",
            "labels:  [1 1 1]\n"
          ]
        }
      ],
      "source": [
        "for example, label in train_dataset.take(1):\n",
        "  print('texts: ', example.numpy()[:3])\n",
        "  print()\n",
        "  print('labels: ', label.numpy()[:3])"
      ]
    },
    {
      "cell_type": "markdown",
      "metadata": {
        "id": "s5eWCo88voPY"
      },
      "source": [
        "## Create the text encoder"
      ]
    },
    {
      "cell_type": "markdown",
      "metadata": {
        "id": "TFevcItw15P_"
      },
      "source": [
        "The raw text loaded by `tfds` needs to be processed before it can be used in a model. The simplest way to process text for training is using the `TextVectorization` layer. This layer has many capabilities, but this tutorial sticks to the default behavior.\n",
        "\n",
        "Create the layer, and pass the dataset's text to the layer's `.adapt` method:"
      ]
    },
    {
      "cell_type": "code",
      "execution_count": 9,
      "metadata": {
        "id": "uC25Lu1Yvuqy"
      },
      "outputs": [],
      "source": [
        "VOCAB_SIZE = 1000\n",
        "encoder = tf.keras.layers.TextVectorization(\n",
        "    max_tokens=VOCAB_SIZE)\n",
        "encoder.adapt(train_dataset.map(lambda text, label: text))"
      ]
    },
    {
      "cell_type": "markdown",
      "metadata": {
        "id": "IuQzVBbe3Ldu"
      },
      "source": [
        "The `.adapt` method sets the layer's vocabulary. Here are the first 20 tokens. After the padding and unknown tokens they're sorted by frequency:"
      ]
    },
    {
      "cell_type": "code",
      "execution_count": 10,
      "metadata": {
        "id": "tBoyjjWg0Ac9",
        "colab": {
          "base_uri": "https://localhost:8080/"
        },
        "outputId": "b122fd13-3058-4669-e31a-c1660c54a351"
      },
      "outputs": [
        {
          "output_type": "execute_result",
          "data": {
            "text/plain": [
              "array(['', '[UNK]', 'i', 'var', 'func', 'value', 'go', 'int', 'for',\n",
              "       'defer', 'timesleeptimemillisecond', 'syncwaitgroup', '1', 'main',\n",
              "       'fmtprintlnfinal', 'data', 'syncmutex', 'total', 'number',\n",
              "       'appenddata'], dtype='<U24')"
            ]
          },
          "metadata": {},
          "execution_count": 10
        }
      ],
      "source": [
        "vocab = np.array(encoder.get_vocabulary())\n",
        "vocab[:20]"
      ]
    },
    {
      "cell_type": "markdown",
      "metadata": {
        "id": "mjId5pua3jHQ"
      },
      "source": [
        "Once the vocabulary is set, the layer can encode text into indices. The tensors of indices are 0-padded to the longest sequence in the batch (unless you set a fixed `output_sequence_length`):"
      ]
    },
    {
      "cell_type": "code",
      "execution_count": 11,
      "metadata": {
        "id": "RGc7C9WiwRWs",
        "colab": {
          "base_uri": "https://localhost:8080/"
        },
        "outputId": "a08a8074-e33e-4951-b78a-3f5dad44d8c6"
      },
      "outputs": [
        {
          "output_type": "execute_result",
          "data": {
            "text/plain": [
              "array([[  3,   1,   7,   3,   1,  11,   4,  23,   9,   1,   8,   2,   1,\n",
              "          2,   1,   2,   5,   1,  10,   1,   5,  12,   4,   1,   9,   1,\n",
              "          8,   2,   1,   2,   1,   2,   5,   1,  10,   1,   5,  12,   4,\n",
              "         13,   1,   6,  23,   6,   1,   1,  14,   1,   1],\n",
              "       [  3,   1,   7,   3,   1,  11,   4,   1,   9,   1,   8,   2,   1,\n",
              "          2,   1,   2,   5,   1,  10,   1,   5,  12,   4, 712,   9,   1,\n",
              "          8,   2,   1,   2,   1,   2,   5,   1,  10,   1,   5,  12,   4,\n",
              "         13,   1,   6,   1,   6, 712,   1,  14,   1,   1],\n",
              "       [  3,   1,   7,   3, 247,  11,   4,   1,   9,   1,   8,   2,   1,\n",
              "          2,   1,   2,   5,   1,  10,   1,   5,  12,   4,   1,   9,   1,\n",
              "          8,   2,   1,   2,   1,   2,   5,   1,  10,   1,   5,  12,   4,\n",
              "         13,   1,   6,   1,   6,   1,   1,  14,   1,   1]])"
            ]
          },
          "metadata": {},
          "execution_count": 11
        }
      ],
      "source": [
        "encoded_example = encoder(example)[:3].numpy()\n",
        "encoded_example"
      ]
    },
    {
      "cell_type": "markdown",
      "metadata": {
        "id": "F5cjz0bS39IN"
      },
      "source": [
        "With the default settings, the process is not completely reversible. There are three main reasons for that:\n",
        "\n",
        "1. The default value for `preprocessing.TextVectorization`'s `standardize` argument is `\"lower_and_strip_punctuation\"`.\n",
        "2. The limited vocabulary size and lack of character-based fallback results in some unknown tokens."
      ]
    },
    {
      "cell_type": "code",
      "execution_count": 12,
      "metadata": {
        "id": "N_tD0QY5wXaK",
        "colab": {
          "base_uri": "https://localhost:8080/"
        },
        "outputId": "81335ef5-86cd-403e-f29c-846d6d1c4e8c"
      },
      "outputs": [
        {
          "output_type": "stream",
          "name": "stdout",
          "text": [
            "Original:  b'var E9NzhjH int var sGhjtDov sync.WaitGroup func Tn() { defer sGhjtDov.Done() for i := 2485278126818940900; i < 285299968703113225 ; i++ { value := E9NzhjH time.Sleep(time.Millisecond) E9NzhjH = value + 1 }} func gMiAd() { defer sGhjtDov.Done() for i := 2485278126818940900; i < 285299968703113225; i++ { value := E9NzhjH time.Sleep(time.Millisecond) E9NzhjH = value - 1 }} func main() { sGhjtDov.Add(2) go Tn() go gMiAd() sGhjtDov.Wait() fmt.Println(Final E9NzhjH: E9NzhjH)}'\n",
            "Round-trip:  var [UNK] int var [UNK] syncwaitgroup func tn defer [UNK] for i [UNK] i [UNK] i value [UNK] timesleeptimemillisecond [UNK] value 1 func [UNK] defer [UNK] for i [UNK] i [UNK] i value [UNK] timesleeptimemillisecond [UNK] value 1 func main [UNK] go tn go [UNK] [UNK] fmtprintlnfinal [UNK] [UNK]\n",
            "\n",
            "Original:  b'var Zso7BKW int var yUVpi sync.WaitGroup func RWIxCd() { defer yUVpi.Done() for i := 4078386311138097776; i < 8370935590503475391 ; i++ { value := Zso7BKW time.Sleep(time.Millisecond) Zso7BKW = value + 1 }} func DF() { defer yUVpi.Done() for i := 4078386311138097776; i < 8370935590503475391; i++ { value := Zso7BKW time.Sleep(time.Millisecond) Zso7BKW = value - 1 }} func main() { yUVpi.Add(2) go RWIxCd() go DF() yUVpi.Wait() fmt.Println(Final Zso7BKW: Zso7BKW)}'\n",
            "Round-trip:  var [UNK] int var [UNK] syncwaitgroup func [UNK] defer [UNK] for i [UNK] i [UNK] i value [UNK] timesleeptimemillisecond [UNK] value 1 func df defer [UNK] for i [UNK] i [UNK] i value [UNK] timesleeptimemillisecond [UNK] value 1 func main [UNK] go [UNK] go df [UNK] fmtprintlnfinal [UNK] [UNK]\n",
            "\n"
          ]
        }
      ],
      "source": [
        "for n in range(2):\n",
        "  print(\"Original: \", example[n].numpy())\n",
        "  print(\"Round-trip: \", \" \".join(vocab[encoded_example[n]]))\n",
        "  print()"
      ]
    },
    {
      "cell_type": "markdown",
      "metadata": {
        "id": "bjUqGVBxGw-t"
      },
      "source": [
        "## Create the model"
      ]
    },
    {
      "cell_type": "markdown",
      "metadata": {
        "id": "W7zsmInBOCPO"
      },
      "source": [
        "![A drawing of the information flow in the model](https://github.com/tensorflow/text/blob/master/docs/tutorials/images/bidirectional.png?raw=1)"
      ]
    },
    {
      "cell_type": "markdown",
      "metadata": {
        "id": "bgs6nnSTGw-t"
      },
      "source": [
        "Above is a diagram of the model.\n",
        "\n",
        "1. This model can be build as a `tf.keras.Sequential`.\n",
        "\n",
        "2. The first layer is the `encoder`, which converts the text to a sequence of token indices.\n",
        "\n",
        "3. After the encoder is an embedding layer. An embedding layer stores one vector per word. When called, it converts the sequences of word indices to sequences of vectors. These vectors are trainable. After training (on enough data), words with similar meanings often have similar vectors.\n",
        "\n",
        "  This index-lookup is much more efficient than the equivalent operation of passing a one-hot encoded vector through a `tf.keras.layers.Dense` layer.\n",
        "\n",
        "4. A recurrent neural network (RNN) processes sequence input by iterating through the elements. RNNs pass the outputs from one timestep to their input on the next timestep.\n",
        "\n",
        "  The `tf.keras.layers.Bidirectional` wrapper can also be used with an RNN layer. This propagates the input forward and backwards through the RNN layer and then concatenates the final output.\n",
        "\n",
        "  * The main advantage of a bidirectional RNN is that the signal from the beginning of the input doesn't need to be processed all the way through every timestep to affect the output.  \n",
        "\n",
        "  * The main disadvantage of a bidirectional RNN is that you can't efficiently stream predictions as words are being added to the end.\n",
        "\n",
        "5. After the RNN has converted the sequence to a single vector the two `layers.Dense` do some final processing, and convert from this vector representation to a single logit as the classification output.\n"
      ]
    },
    {
      "cell_type": "markdown",
      "metadata": {
        "id": "V4fodCI7soQi"
      },
      "source": [
        "The code to implement this is below:"
      ]
    },
    {
      "cell_type": "code",
      "execution_count": 13,
      "metadata": {
        "id": "LwfoBkmRYcP3"
      },
      "outputs": [],
      "source": [
        "model = tf.keras.Sequential([\n",
        "    encoder,\n",
        "    tf.keras.layers.Embedding(\n",
        "        input_dim=len(encoder.get_vocabulary()),\n",
        "        output_dim=64,\n",
        "        # Use masking to handle the variable sequence lengths\n",
        "        mask_zero=True),\n",
        "    tf.keras.layers.Bidirectional(tf.keras.layers.LSTM(64)),\n",
        "    tf.keras.layers.Dense(64, activation='relu'),\n",
        "    tf.keras.layers.Dense(1)\n",
        "])"
      ]
    },
    {
      "cell_type": "markdown",
      "metadata": {
        "id": "QIGmIGkkouUb"
      },
      "source": [
        "Please note that Keras sequential model is used here since all the layers in the model only have single input and produce single output. In case you want to use stateful RNN layer, you might want to build your model with Keras functional API or model subclassing so that you can retrieve and reuse the RNN layer states. Please check [Keras RNN guide](https://www.tensorflow.org/guide/keras/rnn#rnn_state_reuse) for more details."
      ]
    },
    {
      "cell_type": "markdown",
      "metadata": {
        "id": "kF-PsCk1LwjY"
      },
      "source": [
        "The embedding layer [uses masking](https://www.tensorflow.org/guide/keras/masking_and_padding) to handle the varying sequence-lengths. All the layers after the `Embedding` support masking:"
      ]
    },
    {
      "cell_type": "code",
      "execution_count": 14,
      "metadata": {
        "id": "87a8-CwfKebw",
        "colab": {
          "base_uri": "https://localhost:8080/"
        },
        "outputId": "9c0f0570-aeac-4c41-cbda-53c668f45c94"
      },
      "outputs": [
        {
          "output_type": "stream",
          "name": "stdout",
          "text": [
            "[False, True, True, True, True]\n"
          ]
        }
      ],
      "source": [
        "print([layer.supports_masking for layer in model.layers])"
      ]
    },
    {
      "cell_type": "markdown",
      "metadata": {
        "id": "ZlS0iaUIWLpI"
      },
      "source": [
        "To confirm that this works as expected, evaluate a sentence twice. First, alone so there's no padding to mask:"
      ]
    },
    {
      "cell_type": "code",
      "execution_count": 15,
      "metadata": {
        "id": "O41gw3KfWHus",
        "colab": {
          "base_uri": "https://localhost:8080/"
        },
        "outputId": "c66a45d1-0a9a-4ab1-cccd-0dfd502ca21c"
      },
      "outputs": [
        {
          "output_type": "stream",
          "name": "stdout",
          "text": [
            "1/1 [==============================] - 4s 4s/step\n",
            "[-0.01499381]\n"
          ]
        }
      ],
      "source": [
        "# predict on a sample text without padding.\n",
        "\n",
        "sample_text = ('var wg sync.WaitGroup var c int func handle() { defer wg.Done() svc.Handle() c = c + 1} for i := 0; i < 10; i++ {wg.Add(1) go handle()} wg.Wait()')\n",
        "predictions = model.predict(np.array([sample_text]))\n",
        "print(predictions[0])"
      ]
    },
    {
      "cell_type": "markdown",
      "metadata": {
        "id": "K0VQmGnEWcuz"
      },
      "source": [
        "Now, evaluate it again in a batch with a longer sentence. The result should be identical:"
      ]
    },
    {
      "cell_type": "code",
      "execution_count": 16,
      "metadata": {
        "id": "UIgpuTeFNDzq",
        "colab": {
          "base_uri": "https://localhost:8080/"
        },
        "outputId": "a2f66d6f-0213-475b-b01c-9a3ac92543aa"
      },
      "outputs": [
        {
          "output_type": "stream",
          "name": "stdout",
          "text": [
            "1/1 [==============================] - 0s 80ms/step\n",
            "[-0.01499381]\n"
          ]
        }
      ],
      "source": [
        "# predict on a sample text with padding\n",
        "\n",
        "padding = \"the \" * 2000\n",
        "predictions = model.predict(np.array([sample_text, padding]))\n",
        "print(predictions[0])"
      ]
    },
    {
      "cell_type": "markdown",
      "metadata": {
        "id": "sRI776ZcH3Tf"
      },
      "source": [
        "Compile the Keras model to configure the training process:"
      ]
    },
    {
      "cell_type": "code",
      "execution_count": 17,
      "metadata": {
        "id": "kj2xei41YZjC"
      },
      "outputs": [],
      "source": [
        "model.compile(loss=tf.keras.losses.BinaryCrossentropy(from_logits=True),\n",
        "              optimizer=tf.keras.optimizers.Adam(1e-4),\n",
        "              metrics=['accuracy'])"
      ]
    },
    {
      "cell_type": "markdown",
      "metadata": {
        "id": "zIwH3nto596k"
      },
      "source": [
        "## Train the model"
      ]
    },
    {
      "cell_type": "code",
      "execution_count": 18,
      "metadata": {
        "id": "hw86wWS4YgR2",
        "colab": {
          "base_uri": "https://localhost:8080/"
        },
        "outputId": "b4974e66-0f33-463e-d714-e47eba6ff78e"
      },
      "outputs": [
        {
          "output_type": "stream",
          "name": "stdout",
          "text": [
            "Epoch 1/10\n",
            "2969/2969 [==============================] - 65s 19ms/step - loss: 0.1059 - accuracy: 0.9354 - val_loss: 1.8864e-04 - val_accuracy: 1.0000\n",
            "Epoch 2/10\n",
            "2969/2969 [==============================] - 46s 16ms/step - loss: 2.2230e-04 - accuracy: 1.0000 - val_loss: 2.7614e-05 - val_accuracy: 1.0000\n",
            "Epoch 3/10\n",
            "2969/2969 [==============================] - 45s 15ms/step - loss: 7.6688e-05 - accuracy: 1.0000 - val_loss: 4.8054e-06 - val_accuracy: 1.0000\n",
            "Epoch 4/10\n",
            "2969/2969 [==============================] - 44s 15ms/step - loss: 1.3955e-04 - accuracy: 1.0000 - val_loss: 3.2556e-06 - val_accuracy: 1.0000\n",
            "Epoch 5/10\n",
            "2969/2969 [==============================] - 44s 15ms/step - loss: 0.0056 - accuracy: 0.9994 - val_loss: 1.1129e-06 - val_accuracy: 1.0000\n",
            "Epoch 6/10\n",
            "2969/2969 [==============================] - 44s 15ms/step - loss: 1.1210e-05 - accuracy: 1.0000 - val_loss: 2.0093e-07 - val_accuracy: 1.0000\n",
            "Epoch 7/10\n",
            "2969/2969 [==============================] - 45s 15ms/step - loss: 1.7048e-06 - accuracy: 1.0000 - val_loss: 4.8078e-08 - val_accuracy: 1.0000\n",
            "Epoch 8/10\n",
            "2969/2969 [==============================] - 44s 15ms/step - loss: 3.1389e-07 - accuracy: 1.0000 - val_loss: 1.4253e-08 - val_accuracy: 1.0000\n",
            "Epoch 9/10\n",
            "2969/2969 [==============================] - 46s 15ms/step - loss: 6.8478e-08 - accuracy: 1.0000 - val_loss: 5.1182e-09 - val_accuracy: 1.0000\n",
            "Epoch 10/10\n",
            "2969/2969 [==============================] - 46s 15ms/step - loss: 1.9807e-08 - accuracy: 1.0000 - val_loss: 1.9242e-09 - val_accuracy: 1.0000\n"
          ]
        }
      ],
      "source": [
        "history = model.fit(train_dataset, epochs=10,\n",
        "                    validation_data=test_dataset,\n",
        "                    validation_steps=30)"
      ]
    },
    {
      "cell_type": "code",
      "execution_count": 19,
      "metadata": {
        "id": "BaNbXi43YgUT",
        "outputId": "0c48c245-7811-4924-c647-062e88207cee",
        "colab": {
          "base_uri": "https://localhost:8080/"
        }
      },
      "outputs": [
        {
          "output_type": "stream",
          "name": "stdout",
          "text": [
            "157/157 [==============================] - 1s 6ms/step - loss: 1.9238e-09 - accuracy: 1.0000\n",
            "Test Loss: 1.923768477851695e-09\n",
            "Test Accuracy: 1.0\n"
          ]
        }
      ],
      "source": [
        "test_loss, test_acc = model.evaluate(test_dataset)\n",
        "\n",
        "print('Test Loss:', test_loss)\n",
        "print('Test Accuracy:', test_acc)"
      ]
    },
    {
      "cell_type": "code",
      "execution_count": 20,
      "metadata": {
        "id": "OZmwt_mzaQJk",
        "outputId": "cc9e3d91-3c11-4900-9e8b-4e32197d5d0d",
        "colab": {
          "base_uri": "https://localhost:8080/",
          "height": 616
        }
      },
      "outputs": [
        {
          "output_type": "execute_result",
          "data": {
            "text/plain": [
              "(0.0, 0.11122136069153828)"
            ]
          },
          "metadata": {},
          "execution_count": 20
        },
        {
          "output_type": "display_data",
          "data": {
            "text/plain": [
              "<Figure size 1600x800 with 2 Axes>"
            ],
            "image/png": "[encoded data removed]"
          },
          "metadata": {}
        }
      ],
      "source": [
        "plt.figure(figsize=(16, 8))\n",
        "plt.subplot(1, 2, 1)\n",
        "plot_graphs(history, 'accuracy')\n",
        "plt.ylim(None, 1)\n",
        "plt.subplot(1, 2, 2)\n",
        "plot_graphs(history, 'loss')\n",
        "plt.ylim(0, None)"
      ]
    },
    {
      "cell_type": "markdown",
      "metadata": {
        "id": "DwSE_386uhxD"
      },
      "source": [
        "Run a prediction on a new sentence:\n",
        "\n",
        "If the prediction is >= 0.0, it is positive else it is negative."
      ]
    },
    {
      "cell_type": "code",
      "execution_count": 21,
      "metadata": {
        "id": "ZXgfQSgRW6zU",
        "outputId": "508eb36a-58f0-4817-f1a8-5ec279ff9d62",
        "colab": {
          "base_uri": "https://localhost:8080/"
        }
      },
      "outputs": [
        {
          "output_type": "stream",
          "name": "stdout",
          "text": [
            "1/1 [==============================] - 2s 2s/step\n",
            "[[17.351288]]\n",
            "1/1 [==============================] - 0s 20ms/step\n",
            "[[-19.774126]]\n"
          ]
        }
      ],
      "source": [
        "sample_text = ('var wg sync.WaitGroup var c int func handle() { defer wg.Done() svc.Handle() c = c + 1} for i := 0; i < 10; i++ {wg.Add(1) go handle()} wg.Wait()')\n",
        "predictions = model.predict(np.array([sample_text]))\n",
        "print(predictions)\n",
        "\n",
        "sample_text = ('var wg sync.WaitGroup var c int var mu sync.Mutex func handle() { defer wg.Done() svc.Handle() mu.Lock() c = c + 1 mu.Unlock()} for i := 0; i < 10; i++ {wg.Add(1) go handle()} wg.Wait()')\n",
        "predictions = model.predict(np.array([sample_text]))\n",
        "print(predictions)"
      ]
    },
    {
      "cell_type": "markdown",
      "metadata": {
        "id": "7g1evcaRpTKm"
      },
      "source": [
        "## Stack two or more LSTM layers\n",
        "\n",
        "Keras recurrent layers have two available modes that are controlled by the `return_sequences` constructor argument:\n",
        "\n",
        "* If `False` it returns only the last output for each input sequence (a 2D tensor of shape (batch_size, output_features)). This is the default, used in the previous model.\n",
        "\n",
        "* If `True` the full sequences of successive outputs for each timestep is returned (a 3D tensor of shape `(batch_size, timesteps, output_features)`).\n",
        "\n",
        "Here is what the flow of information looks like with `return_sequences=True`:\n",
        "\n",
        "![layered_bidirectional](https://github.com/tensorflow/text/blob/master/docs/tutorials/images/layered_bidirectional.png?raw=1)"
      ]
    },
    {
      "cell_type": "markdown",
      "metadata": {
        "id": "wbSClCrG1z8l"
      },
      "source": [
        "The interesting thing about using an `RNN` with `return_sequences=True` is that the output still has 3-axes, like the input, so it can be passed to another RNN layer, like this:"
      ]
    },
    {
      "cell_type": "code",
      "execution_count": 22,
      "metadata": {
        "id": "jo1jjO3vn0jo"
      },
      "outputs": [],
      "source": [
        "model = tf.keras.Sequential([\n",
        "    encoder,\n",
        "    tf.keras.layers.Embedding(len(encoder.get_vocabulary()), 64, mask_zero=True),\n",
        "    tf.keras.layers.Bidirectional(tf.keras.layers.LSTM(64,  return_sequences=True)),\n",
        "    tf.keras.layers.Bidirectional(tf.keras.layers.LSTM(32)),\n",
        "    tf.keras.layers.Dense(64, activation='relu'),\n",
        "    tf.keras.layers.Dropout(0.5),\n",
        "    tf.keras.layers.Dense(1)\n",
        "])"
      ]
    },
    {
      "cell_type": "code",
      "execution_count": 23,
      "metadata": {
        "id": "hEPV5jVGp-is"
      },
      "outputs": [],
      "source": [
        "model.compile(loss=tf.keras.losses.BinaryCrossentropy(from_logits=True),\n",
        "              optimizer=tf.keras.optimizers.Adam(1e-4),\n",
        "              metrics=['accuracy'])"
      ]
    },
    {
      "cell_type": "code",
      "execution_count": 24,
      "metadata": {
        "id": "LeSE-YjdqAeN",
        "outputId": "70a4eb5d-ff88-41fb-aa3f-bdc2edecd913",
        "colab": {
          "base_uri": "https://localhost:8080/"
        }
      },
      "outputs": [
        {
          "output_type": "stream",
          "name": "stdout",
          "text": [
            "Epoch 1/10\n",
            "2969/2969 [==============================] - 98s 27ms/step - loss: 0.1090 - accuracy: 0.9408 - val_loss: 4.4885e-04 - val_accuracy: 1.0000\n",
            "Epoch 2/10\n",
            "2969/2969 [==============================] - 71s 24ms/step - loss: 0.1358 - accuracy: 0.9465 - val_loss: 0.0011 - val_accuracy: 1.0000\n",
            "Epoch 3/10\n",
            "2969/2969 [==============================] - 70s 23ms/step - loss: 0.0331 - accuracy: 0.9909 - val_loss: 1.0764e-04 - val_accuracy: 1.0000\n",
            "Epoch 4/10\n",
            "2969/2969 [==============================] - 70s 24ms/step - loss: 6.5154e-04 - accuracy: 1.0000 - val_loss: 4.4183e-06 - val_accuracy: 1.0000\n",
            "Epoch 5/10\n",
            "2969/2969 [==============================] - 71s 24ms/step - loss: 1.5532e-04 - accuracy: 1.0000 - val_loss: 1.5654e-07 - val_accuracy: 1.0000\n",
            "Epoch 6/10\n",
            "2969/2969 [==============================] - 72s 24ms/step - loss: 3.0907e-04 - accuracy: 0.9999 - val_loss: 8.0829e-08 - val_accuracy: 1.0000\n",
            "Epoch 7/10\n",
            "2969/2969 [==============================] - 71s 24ms/step - loss: 2.1343e-05 - accuracy: 1.0000 - val_loss: 1.3122e-08 - val_accuracy: 1.0000\n",
            "Epoch 8/10\n",
            "2969/2969 [==============================] - 71s 24ms/step - loss: 5.1706e-05 - accuracy: 1.0000 - val_loss: 3.0768e-09 - val_accuracy: 1.0000\n",
            "Epoch 9/10\n",
            "2969/2969 [==============================] - 72s 24ms/step - loss: 3.0567e-06 - accuracy: 1.0000 - val_loss: 3.3905e-10 - val_accuracy: 1.0000\n",
            "Epoch 10/10\n",
            "2969/2969 [==============================] - 72s 24ms/step - loss: 9.2023e-07 - accuracy: 1.0000 - val_loss: 3.5819e-11 - val_accuracy: 1.0000\n"
          ]
        }
      ],
      "source": [
        "history = model.fit(train_dataset, epochs=10,\n",
        "                    validation_data=test_dataset,\n",
        "                    validation_steps=30)"
      ]
    },
    {
      "cell_type": "code",
      "execution_count": 25,
      "metadata": {
        "id": "_LdwilM1qPM3",
        "outputId": "7f8e421c-a25c-492b-8cef-ad88623a14a8",
        "colab": {
          "base_uri": "https://localhost:8080/"
        }
      },
      "outputs": [
        {
          "output_type": "stream",
          "name": "stdout",
          "text": [
            "157/157 [==============================] - 2s 9ms/step - loss: 3.5786e-11 - accuracy: 1.0000\n",
            "Test Loss: 3.5785988755643316e-11\n",
            "Test Accuracy: 1.0\n"
          ]
        }
      ],
      "source": [
        "test_loss, test_acc = model.evaluate(test_dataset)\n",
        "\n",
        "print('Test Loss:', test_loss)\n",
        "print('Test Accuracy:', test_acc)"
      ]
    },
    {
      "cell_type": "code",
      "execution_count": 26,
      "metadata": {
        "id": "ykUKnAoqbycW",
        "outputId": "61e2338e-8830-4bd7-d688-47cb7421d700",
        "colab": {
          "base_uri": "https://localhost:8080/"
        }
      },
      "outputs": [
        {
          "output_type": "stream",
          "name": "stdout",
          "text": [
            "1/1 [==============================] - 4s 4s/step\n",
            "[[24.098633]]\n",
            "1/1 [==============================] - 0s 22ms/step\n",
            "[[-24.006989]]\n"
          ]
        }
      ],
      "source": [
        "# predict on a sample text without padding.\n",
        "\n",
        "sample_text = ('var wg sync.WaitGroup var c int func handle() { defer wg.Done() svc.Handle() c = c + 1} for i := 0; i < 10; i++ {wg.Add(1) go handle()} wg.Wait()')\n",
        "predictions = model.predict(np.array([sample_text]))\n",
        "print(predictions)\n",
        "\n",
        "sample_text = ('var wg sync.WaitGroup var c int var mu sync.Mutex func handle() { defer wg.Done() svc.Handle() mu.Lock() c = c + 1 mu.Unlock()} for i := 0; i < 10; i++ {wg.Add(1) go handle()} wg.Wait()')\n",
        "predictions = model.predict(np.array([sample_text]))\n",
        "print(predictions)"
      ]
    },
    {
      "cell_type": "code",
      "execution_count": 27,
      "metadata": {
        "id": "_YYub0EDtwCu",
        "outputId": "7db1d796-fb73-4ec3-872f-694a9eb0b8ba",
        "colab": {
          "base_uri": "https://localhost:8080/",
          "height": 463
        }
      },
      "outputs": [
        {
          "output_type": "display_data",
          "data": {
            "text/plain": [
              "<Figure size 1600x600 with 2 Axes>"
            ],
            "image/png": "[encoded data removed]"
          },
          "metadata": {}
        }
      ],
      "source": [
        "plt.figure(figsize=(16, 6))\n",
        "plt.subplot(1, 2, 1)\n",
        "plot_graphs(history, 'accuracy')\n",
        "plt.subplot(1, 2, 2)\n",
        "plot_graphs(history, 'loss')"
      ]
    },
    {
      "cell_type": "markdown",
      "metadata": {
        "id": "9xvpE3BaGw_V"
      },
      "source": [
        "Check out other existing recurrent layers such as [GRU layers](https://www.tensorflow.org/api_docs/python/tf/keras/layers/GRU).\n",
        "\n",
        "If you're interested in building custom RNNs, see the [Keras RNN Guide](https://www.tensorflow.org/guide/keras/rnn).\n"
      ]
    }
  ],
  "metadata": {
    "accelerator": "GPU",
    "colab": {
      "name": "text_classification_rnn.ipynb",
      "provenance": [],
      "toc_visible": true,
      "include_colab_link": true
    },
    "kernelspec": {
      "display_name": "Python 3",
      "name": "python3"
    }
  },
  "nbformat": 4,
  "nbformat_minor": 0
}